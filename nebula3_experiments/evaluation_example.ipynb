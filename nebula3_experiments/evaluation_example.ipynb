{
 "cells": [
  {
   "cell_type": "code",
   "execution_count": null,
   "id": "8fbef0c9-f803-44c7-9527-6cd8c2df07f9",
   "metadata": {},
   "outputs": [],
   "source": [
    "import sys\n",
    "sys.path.insert(0, \"/notebooks/pipenv\")\n",
    "sys.path.insert(0, \"/notebooks/nebula3_database\")\n",
    "sys.path.insert(0,\"/notebooks/nebula3_experiments\")\n",
    "sys.path.insert(0, \"/notebooks/\")\n",
    "import json\n",
    "from vg_eval import VGEvaluation, get_sc_graph, spice_get_triplets, tuples_from_sg\n"
   ]
  },
  {
   "cell_type": "code",
   "execution_count": null,
   "id": "537ed100-6ca4-4bcc-b3d9-81197463683a",
   "metadata": {},
   "outputs": [],
   "source": [
    "evaluator = VGEvaluation()"
   ]
  },
  {
   "cell_type": "code",
   "execution_count": null,
   "id": "bd24dcee-2684-4e34-a091-c280b506d7fb",
   "metadata": {},
   "outputs": [],
   "source": [
    "ipc_data = json.load(open('/storage/ipc_data/paragraphs_v1.json','r'))"
   ]
  },
  {
   "cell_type": "code",
   "execution_count": null,
   "id": "33875007-031a-41dd-be93-f8565fa1ab5a",
   "metadata": {},
   "outputs": [],
   "source": [
    "ipc = ipc_data[1234]\n",
    "ipc_triplets = spice_get_triplets(ipc['paragraph'])\n",
    "sg = get_sc_graph(ipc['image_id'])\n",
    "gt_triplets = tuples_from_sg(sg)"
   ]
  },
  {
   "cell_type": "code",
   "execution_count": null,
   "id": "f90ddbe4-6fb3-468e-b3dc-1031f43fe84f",
   "metadata": {},
   "outputs": [],
   "source": [
    "recall = evaluator.recall_triplets_mean(gt_triplets,ipc_triplets)\n",
    "print(\"Mean (bert-based) total recall of ground truth triplets in ipc triplets is: {}\".format(recall))"
   ]
  },
  {
   "cell_type": "code",
   "execution_count": null,
   "id": "727d43c4-7f4f-40c5-9802-7c9fa74b9e98",
   "metadata": {},
   "outputs": [],
   "source": [
    "ipc_objects = [x for x in ipc_triplets if len(x)==1]\n",
    "gt_objects = [x for x in gt_triplets if len(x)==1]\n",
    "recall = evaluator.recall_triplets_mean(gt_objects,ipc_objects)\n",
    "print(\"Mean (bert-based) recall of ground truth objects in ipc objects is: {}\".format(recall))"
   ]
  },
  {
   "cell_type": "code",
   "execution_count": 15,
   "id": "555fa361-a183-4852-a6ab-4e71911be354",
   "metadata": {},
   "outputs": [
    {
     "data": {
      "text/plain": [
       "[('trees',),\n",
       " ('sidewalk',),\n",
       " ('skateboard',),\n",
       " ('sky',),\n",
       " ('tree',),\n",
       " ('man',),\n",
       " ('cuffs',),\n",
       " ('lawn',),\n",
       " ('nose',),\n",
       " ('head',),\n",
       " ('purple shirt',),\n",
       " ('street',),\n",
       " ('boot',),\n",
       " ('sidewalk curb',),\n",
       " ('pavement',),\n",
       " ('fingerless gloves',),\n",
       " ('big boot',),\n",
       " ('wheels',),\n",
       " ('knee',),\n",
       " ('person',),\n",
       " ('brush',),\n",
       " ('bricks',),\n",
       " ('shirt',),\n",
       " ('forest',),\n",
       " ('wheel',),\n",
       " ('skate board',),\n",
       " ('pants',),\n",
       " ('road',)]"
      ]
     },
     "execution_count": 15,
     "metadata": {},
     "output_type": "execute_result"
    }
   ],
   "source": [
    "gt_objects"
   ]
  }
 ],
 "metadata": {
  "kernelspec": {
   "display_name": "Python 3 (ipykernel)",
   "language": "python",
   "name": "python3"
  },
  "language_info": {
   "codemirror_mode": {
    "name": "ipython",
    "version": 3
   },
   "file_extension": ".py",
   "mimetype": "text/x-python",
   "name": "python",
   "nbconvert_exporter": "python",
   "pygments_lexer": "ipython3",
   "version": "3.10.5"
  }
 },
 "nbformat": 4,
 "nbformat_minor": 5
}
